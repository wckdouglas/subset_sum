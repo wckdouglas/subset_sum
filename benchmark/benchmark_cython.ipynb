{
 "cells": [
  {
   "cell_type": "code",
   "execution_count": 41,
   "metadata": {},
   "outputs": [
    {
     "name": "stdout",
     "output_type": "stream",
     "text": "The cython extension is already loaded. To reload it, use:\n  %reload_ext cython\n"
    }
   ],
   "source": [
    "%load_ext cython\n",
    "import timeit \n",
    "import matplotlib.pyplot as plt\n",
    "import seaborn as sns\n",
    "import pandas as pd"
   ]
  },
  {
   "cell_type": "code",
   "execution_count": 42,
   "metadata": {},
   "outputs": [],
   "source": [
    "%%cython\n",
    "\n",
    "def subset_sum_cy(numbers, target, partial_list=[], local=False):\n",
    "    '''\n",
    "    https://stackoverflow.com/questions/4632322/   finding-all-possible-combinations-of-numbers-to-reach-a-given-sum\n",
    "    '''\n",
    "\n",
    "    cdef:\n",
    "        double s, n\n",
    "        int i\n",
    "\n",
    "\n",
    "    s = sum(partial_list)\n",
    "\n",
    "    # check if the partial_list sum is equals to target\n",
    "    if s == target: \n",
    "        msg = \"sum(%s)=%s\" % (partial_list, target)\n",
    "        #print(msg)\n",
    "        return 0\n",
    "\n",
    "    if s > target:\n",
    "        return 0\n",
    "\n",
    "    for i in range(len(numbers)):\n",
    "        n = numbers[i]\n",
    "        remaining = numbers[i+1:]\n",
    "        subset_sum_cy(remaining, target, partial_list + [n]) "
   ]
  },
  {
   "cell_type": "code",
   "execution_count": 43,
   "metadata": {},
   "outputs": [],
   "source": [
    "def subset_sum_py(numbers, target, partial_list=[], local=False):\n",
    "    '''\n",
    "    https://stackoverflow.com/questions/4632322/   finding-all-possible-combinations-of-numbers-to-reach-a-given-sum\n",
    "    '''\n",
    "\n",
    "    s = sum(partial_list)\n",
    "\n",
    "    # check if the partial_list sum is equals to target\n",
    "    if s == target: \n",
    "        msg = \"sum(%s)=%s\" % (partial_list, target)\n",
    "        #print(msg)\n",
    "        return 0\n",
    "\n",
    "    if s > target:\n",
    "        return 0\n",
    "\n",
    "    for i in range(len(numbers)):\n",
    "        n = numbers[i]\n",
    "        remaining = numbers[i+1:]\n",
    "        subset_sum_py(remaining, target, partial_list + [n]) "
   ]
  },
  {
   "cell_type": "code",
   "execution_count": 44,
   "metadata": {},
   "outputs": [],
   "source": [
    "num_list = [7,8,3,1,2,4,5,10, 12]\n",
    "answer = 13"
   ]
  },
  {
   "cell_type": "code",
   "execution_count": 45,
   "metadata": {},
   "outputs": [
    {
     "name": "stdout",
     "output_type": "stream",
     "text": "88.1 µs ± 9.46 µs per loop (mean ± std. dev. of 7 runs, 10000 loops each)\n"
    }
   ],
   "source": [
    "times_cy = %timeit -o subset_sum_cy(num_list, answer)"
   ]
  },
  {
   "cell_type": "code",
   "execution_count": 46,
   "metadata": {},
   "outputs": [
    {
     "name": "stdout",
     "output_type": "stream",
     "text": "125 µs ± 13.3 µs per loop (mean ± std. dev. of 7 runs, 10000 loops each)\n"
    }
   ],
   "source": [
    "time_py = %timeit -o  subset_sum_py(num_list, answer)"
   ]
  },
  {
   "cell_type": "code",
   "execution_count": 67,
   "metadata": {},
   "outputs": [
    {
     "data": {
      "text/html": "<div>\n<style scoped>\n    .dataframe tbody tr th:only-of-type {\n        vertical-align: middle;\n    }\n\n    .dataframe tbody tr th {\n        vertical-align: top;\n    }\n\n    .dataframe thead th {\n        text-align: right;\n    }\n</style>\n<table border=\"1\" class=\"dataframe\">\n  <thead>\n    <tr style=\"text-align: right;\">\n      <th></th>\n      <th>variable</th>\n      <th>value</th>\n    </tr>\n  </thead>\n  <tbody>\n    <tr>\n      <td>0</td>\n      <td>Cython</td>\n      <td>79.686779</td>\n    </tr>\n    <tr>\n      <td>1</td>\n      <td>Cython</td>\n      <td>88.386141</td>\n    </tr>\n    <tr>\n      <td>2</td>\n      <td>Cython</td>\n      <td>80.673665</td>\n    </tr>\n    <tr>\n      <td>3</td>\n      <td>Cython</td>\n      <td>82.301678</td>\n    </tr>\n    <tr>\n      <td>4</td>\n      <td>Cython</td>\n      <td>85.197209</td>\n    </tr>\n  </tbody>\n</table>\n</div>",
      "text/plain": "  variable      value\n0   Cython  79.686779\n1   Cython  88.386141\n2   Cython  80.673665\n3   Cython  82.301678\n4   Cython  85.197209"
     },
     "execution_count": 67,
     "metadata": {},
     "output_type": "execute_result"
    }
   ],
   "source": [
    "time_df = pd.DataFrame({'Cython': times_cy.timings,\n",
    "            'Pure python': time_py.timings})\\\n",
    "    .pipe(pd.melt) \\\n",
    "    .assign(value = lambda d: d.value.astype(float) * 1e6)\n",
    "time_df.head()"
   ]
  },
  {
   "cell_type": "code",
   "execution_count": 69,
   "metadata": {},
   "outputs": [],
   "source": [
    "ax = plt.subplot(111)\n",
    "sns.violinplot(data=time_df, \n",
    "            x = 'variable', \n",
    "            y='value', \n",
    "            color='steelblue', \n",
    "            alpha=0.2, ax = ax)\n",
    "sns.stripplot(data=time_df, \n",
    "            x= 'variable', \n",
    "            y = 'value', \n",
    "            color = 'orange', ax=ax)\n",
    "sns.despine()\n",
    "ax.set_xlabel('Method')\n",
    "ax.set_ylabel('Time ($\\mu$s)')\n",
    "plt.savefig('timing.png')"
   ]
  },
  {
   "cell_type": "code",
   "execution_count": null,
   "metadata": {},
   "outputs": [],
   "source": []
  }
 ],
 "metadata": {
  "file_extension": ".py",
  "kernelspec": {
   "display_name": "Python 3.6.9 64-bit ('miniconda3': virtualenv)",
   "language": "python",
   "name": "python36964bitminiconda3virtualenvc8cf357edfdb44d29081a93a4f4d7304"
  },
  "language_info": {
   "codemirror_mode": {
    "name": "ipython",
    "version": 3
   },
   "file_extension": ".py",
   "mimetype": "text/x-python",
   "name": "python",
   "nbconvert_exporter": "python",
   "pygments_lexer": "ipython3",
   "version": "3.6.9-final"
  },
  "mimetype": "text/x-python",
  "name": "python",
  "npconvert_exporter": "python",
  "pygments_lexer": "ipython3",
  "version": 3
 },
 "nbformat": 4,
 "nbformat_minor": 4
}